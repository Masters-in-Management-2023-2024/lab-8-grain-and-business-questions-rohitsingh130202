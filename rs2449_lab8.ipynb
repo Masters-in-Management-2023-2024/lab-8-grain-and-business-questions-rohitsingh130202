{
  "cells": [
    {
      "cell_type": "markdown",
      "metadata": {
        "id": "zVaK5rC7F3wS"
      },
      "source": [
        "# Diamond Company Analytics Challenge\n",
        "\n",
        "**Time:** 35 minutes\n",
        "\n",
        "**Scenario:** You are the new data analyst at a prestigious diamond company. The CEO has called an urgent meeting and needs answers to critical business questions about the inventory.\n",
        "\n",
        "**Your Mission:** Analyze the diamond inventory data and provide insights to guide strategic decisions."
      ]
    },
    {
      "cell_type": "code",
      "execution_count": null,
      "metadata": {
        "colab": {
          "base_uri": "https://localhost:8080/"
        },
        "id": "6nh9VWVVF3wU",
        "outputId": "7d24dba7-aa3d-4eac-efe8-c6ad685a3fc2"
      },
      "outputs": [
        {
          "output_type": "stream",
          "name": "stdout",
          "text": [
            "Loading diamonds dataset...\n",
            "Dataset loaded successfully!\n"
          ]
        }
      ],
      "source": [
        "import polars as pl\n",
        "\n",
        "# Load the diamonds dataset\n",
        "print(\"Loading diamonds dataset...\")\n",
        "df = pl.read_csv('https://raw.githubusercontent.com/pycaret/pycaret/master/datasets/diamond.csv')\n",
        "print(\"Dataset loaded successfully!\")"
      ]
    },
    {
      "cell_type": "markdown",
      "metadata": {
        "id": "E8wH-zJUF3wV"
      },
      "source": [
        "## Section 1: Initial Inventory Assessment (5 minutes)\n",
        "\n",
        "The CEO walks in: \"Before we dive into specifics, I need to understand what we're working with. Give me the basics about our inventory database.\""
      ]
    },
    {
      "cell_type": "markdown",
      "metadata": {
        "id": "66_Wr_rDF3wV"
      },
      "source": [
        "### Question 1: \"How extensive is our inventory database?\"\n",
        "\n",
        "The CEO needs to know the scale of data you're analyzing."
      ]
    },
    {
      "cell_type": "code",
      "execution_count": null,
      "metadata": {
        "colab": {
          "base_uri": "https://localhost:8080/"
        },
        "id": "mkdOJvnQF3wV",
        "outputId": "f2ad06a1-4ac4-4e7a-aa92-55e3973ee798"
      },
      "outputs": [
        {
          "output_type": "stream",
          "name": "stdout",
          "text": [
            "Our inventory database contains 6000 records across 8 fields.\n"
          ]
        }
      ],
      "source": [
        "# Your code here:\n",
        "\n",
        "num_records = df.shape[0]\n",
        "num_columns = df.shape[1]\n",
        "\n",
        "print(f\"Our inventory database contains {num_records} records across {num_columns} fields.\")"
      ]
    },
    {
      "cell_type": "markdown",
      "metadata": {
        "id": "r8-x6fKbF3wV"
      },
      "source": [
        "### Question 2: \"What information do we track about each diamond?\"\n",
        "\n",
        "List all the characteristics we record."
      ]
    },
    {
      "cell_type": "code",
      "execution_count": null,
      "metadata": {
        "colab": {
          "base_uri": "https://localhost:8080/"
        },
        "id": "H75fGb-dF3wV",
        "outputId": "672e91fb-3057-4b07-9b7a-e7a4454c1ce1"
      },
      "outputs": [
        {
          "output_type": "stream",
          "name": "stdout",
          "text": [
            "We currently track the following characteristics for each diamond:\n",
            "- Carat Weight\n",
            "- Cut\n",
            "- Color\n",
            "- Clarity\n",
            "- Polish\n",
            "- Symmetry\n",
            "- Report\n",
            "- Price\n"
          ]
        }
      ],
      "source": [
        "# Your code here:\n",
        "\n",
        "columns = df.columns\n",
        "\n",
        "print(\"We currently track the following characteristics for each diamond:\")\n",
        "for col in columns:\n",
        "    print(f\"- {col}\")\n",
        "\n"
      ]
    },
    {
      "cell_type": "markdown",
      "metadata": {
        "id": "0WQEq7GIF3wW"
      },
      "source": [
        "### Question 3: \"When I look at one line in this database, what am I looking at?\"\n",
        "\n",
        "Explain in business terms:"
      ]
    },
    {
      "cell_type": "markdown",
      "metadata": {
        "id": "vlZKQ0URF3wW"
      },
      "source": [
        "**Your answer:** Each row represents:"
      ]
    },
    {
      "cell_type": "markdown",
      "metadata": {
        "id": "ROUWzqhrF3wW"
      },
      "source": [
        "## Section 2: Strategic Business Questions (20 minutes)\n",
        "\n",
        "The CEO continues: \"Now let's get to the important questions. Our board meeting is tomorrow and I need concrete numbers.\""
      ]
    },
    {
      "cell_type": "markdown",
      "metadata": {
        "id": "6SARon9-F3wW"
      },
      "source": [
        "### Question 4: \"We're considering expanding our storage facilities. How many total carats do we have in inventory? I need to know if our vaults can handle the weight.\"\n",
        "\n",
        "Think about what measurement would help answer this."
      ]
    },
    {
      "cell_type": "code",
      "execution_count": 14,
      "metadata": {
        "id": "71W94gb8F3wW",
        "colab": {
          "base_uri": "https://localhost:8080/"
        },
        "outputId": "ab8495ea-50fa-4588-bb50-826dca145b80"
      },
      "outputs": [
        {
          "output_type": "stream",
          "name": "stdout",
          "text": [
            "Our total inventory amounts to 8007.12 carats.\n"
          ]
        }
      ],
      "source": [
        "# Your code here:\n",
        "\n",
        "total_carats = df['Carat Weight'].sum()\n",
        "\n",
        "print(f\"Our total inventory amounts to {total_carats:.2f} carats.\")"
      ]
    },
    {
      "cell_type": "markdown",
      "metadata": {
        "id": "QGcg8L3HF3wW"
      },
      "source": [
        "### Question 5: \"Our new marketing campaign claims we have 'the widest variety of cuts in the industry.' Can you verify this?\"\n",
        "\n",
        "The CEO wants to know about variety, not quantity."
      ]
    },
    {
      "cell_type": "code",
      "execution_count": 16,
      "metadata": {
        "id": "tzzP7fWeF3wX",
        "colab": {
          "base_uri": "https://localhost:8080/"
        },
        "outputId": "d02c7fb7-926b-44dd-e6e2-a45872612c8a"
      },
      "outputs": [
        {
          "output_type": "stream",
          "name": "stdout",
          "text": [
            "We currently offer the following diamond cuts:\n",
            "- Ideal\n",
            "- Fair\n",
            "- Signature-Ideal\n",
            "- Very Good\n",
            "- Good\n",
            "\n",
            "Total variety of cuts: 5\n"
          ]
        }
      ],
      "source": [
        "# Your code here:\n",
        "\n",
        "cuts = df['Cut'].unique().to_list()\n",
        "\n",
        "print(\"We currently offer the following diamond cuts:\")\n",
        "for cut in cuts:\n",
        "    print(f\"- {cut}\")\n",
        "\n",
        "print(f\"\\nTotal variety of cuts: {len(cuts)}\")"
      ]
    },
    {
      "cell_type": "markdown",
      "metadata": {
        "id": "9Rime2QbF3wX"
      },
      "source": [
        "### Question 6: \"I'm meeting with our insurance company. They need to know our price exposure - what's our most and least valuable diamond?\""
      ]
    },
    {
      "cell_type": "code",
      "execution_count": 18,
      "metadata": {
        "id": "B8eTpLECF3wX",
        "colab": {
          "base_uri": "https://localhost:8080/",
          "height": 290
        },
        "outputId": "d31f5c48-eac4-48d6-9081-8165e4576aa4"
      },
      "outputs": [
        {
          "output_type": "stream",
          "name": "stdout",
          "text": [
            "Most valuable diamond in inventory:\n"
          ]
        },
        {
          "output_type": "display_data",
          "data": {
            "text/plain": [
              "shape: (1, 8)\n",
              "┌──────────────┬───────┬───────┬─────────┬────────┬──────────┬────────┬────────┐\n",
              "│ Carat Weight ┆ Cut   ┆ Color ┆ Clarity ┆ Polish ┆ Symmetry ┆ Report ┆ Price  │\n",
              "│ ---          ┆ ---   ┆ ---   ┆ ---     ┆ ---    ┆ ---      ┆ ---    ┆ ---    │\n",
              "│ f64          ┆ str   ┆ str   ┆ str     ┆ str    ┆ str      ┆ str    ┆ i64    │\n",
              "╞══════════════╪═══════╪═══════╪═════════╪════════╪══════════╪════════╪════════╡\n",
              "│ 2.79         ┆ Ideal ┆ D     ┆ IF      ┆ EX     ┆ EX       ┆ GIA    ┆ 101561 │\n",
              "└──────────────┴───────┴───────┴─────────┴────────┴──────────┴────────┴────────┘"
            ],
            "text/html": [
              "<div><style>\n",
              ".dataframe > thead > tr,\n",
              ".dataframe > tbody > tr {\n",
              "  text-align: right;\n",
              "  white-space: pre-wrap;\n",
              "}\n",
              "</style>\n",
              "<small>shape: (1, 8)</small><table border=\"1\" class=\"dataframe\"><thead><tr><th>Carat Weight</th><th>Cut</th><th>Color</th><th>Clarity</th><th>Polish</th><th>Symmetry</th><th>Report</th><th>Price</th></tr><tr><td>f64</td><td>str</td><td>str</td><td>str</td><td>str</td><td>str</td><td>str</td><td>i64</td></tr></thead><tbody><tr><td>2.79</td><td>&quot;Ideal&quot;</td><td>&quot;D&quot;</td><td>&quot;IF&quot;</td><td>&quot;EX&quot;</td><td>&quot;EX&quot;</td><td>&quot;GIA&quot;</td><td>101561</td></tr></tbody></table></div>"
            ]
          },
          "metadata": {}
        },
        {
          "output_type": "stream",
          "name": "stdout",
          "text": [
            "\n",
            "Least valuable diamond in inventory:\n"
          ]
        },
        {
          "output_type": "display_data",
          "data": {
            "text/plain": [
              "shape: (1, 8)\n",
              "┌──────────────┬──────┬───────┬─────────┬────────┬──────────┬────────┬───────┐\n",
              "│ Carat Weight ┆ Cut  ┆ Color ┆ Clarity ┆ Polish ┆ Symmetry ┆ Report ┆ Price │\n",
              "│ ---          ┆ ---  ┆ ---   ┆ ---     ┆ ---    ┆ ---      ┆ ---    ┆ ---   │\n",
              "│ f64          ┆ str  ┆ str   ┆ str     ┆ str    ┆ str      ┆ str    ┆ i64   │\n",
              "╞══════════════╪══════╪═══════╪═════════╪════════╪══════════╪════════╪═══════╡\n",
              "│ 0.77         ┆ Good ┆ I     ┆ VS1     ┆ VG     ┆ G        ┆ AGSL   ┆ 2184  │\n",
              "└──────────────┴──────┴───────┴─────────┴────────┴──────────┴────────┴───────┘"
            ],
            "text/html": [
              "<div><style>\n",
              ".dataframe > thead > tr,\n",
              ".dataframe > tbody > tr {\n",
              "  text-align: right;\n",
              "  white-space: pre-wrap;\n",
              "}\n",
              "</style>\n",
              "<small>shape: (1, 8)</small><table border=\"1\" class=\"dataframe\"><thead><tr><th>Carat Weight</th><th>Cut</th><th>Color</th><th>Clarity</th><th>Polish</th><th>Symmetry</th><th>Report</th><th>Price</th></tr><tr><td>f64</td><td>str</td><td>str</td><td>str</td><td>str</td><td>str</td><td>str</td><td>i64</td></tr></thead><tbody><tr><td>0.77</td><td>&quot;Good&quot;</td><td>&quot;I&quot;</td><td>&quot;VS1&quot;</td><td>&quot;VG&quot;</td><td>&quot;G&quot;</td><td>&quot;AGSL&quot;</td><td>2184</td></tr></tbody></table></div>"
            ]
          },
          "metadata": {}
        }
      ],
      "source": [
        "# Your code here:\n",
        "\n",
        "most_valuable = df.sort(by='Price', descending=True).head(1)\n",
        "least_valuable = df.sort(by='Price', descending=False).head(1)\n",
        "\n",
        "print(\"Most valuable diamond in inventory:\")\n",
        "display(most_valuable)\n",
        "\n",
        "print(\"\\nLeast valuable diamond in inventory:\")\n",
        "display(least_valuable)"
      ]
    },
    {
      "cell_type": "markdown",
      "metadata": {
        "id": "BxTXLjHlF3wX"
      },
      "source": [
        "### Question 7: \"Which color grades should we focus on in our premium line? I need typical prices across our color spectrum.\"\n",
        "\n",
        "The CEO wants to understand pricing patterns."
      ]
    },
    {
      "cell_type": "code",
      "execution_count": 20,
      "metadata": {
        "id": "OuncKaYpF3wX",
        "colab": {
          "base_uri": "https://localhost:8080/",
          "height": 300
        },
        "outputId": "5d0c7fc3-7b68-4de3-f03b-1760c88c237e"
      },
      "outputs": [
        {
          "output_type": "stream",
          "name": "stdout",
          "text": [
            "Typical prices across color grades (highest to lowest):\n"
          ]
        },
        {
          "output_type": "display_data",
          "data": {
            "text/plain": [
              "shape: (6, 2)\n",
              "┌───────┬──────────────┐\n",
              "│ Color ┆ avg_price    │\n",
              "│ ---   ┆ ---          │\n",
              "│ str   ┆ f64          │\n",
              "╞═══════╪══════════════╡\n",
              "│ D     ┆ 15255.783661 │\n",
              "│ F     ┆ 12712.241856 │\n",
              "│ G     ┆ 12520.050633 │\n",
              "│ E     ┆ 11539.190231 │\n",
              "│ H     ┆ 10487.347544 │\n",
              "│ I     ┆ 8989.636364  │\n",
              "└───────┴──────────────┘"
            ],
            "text/html": [
              "<div><style>\n",
              ".dataframe > thead > tr,\n",
              ".dataframe > tbody > tr {\n",
              "  text-align: right;\n",
              "  white-space: pre-wrap;\n",
              "}\n",
              "</style>\n",
              "<small>shape: (6, 2)</small><table border=\"1\" class=\"dataframe\"><thead><tr><th>Color</th><th>avg_price</th></tr><tr><td>str</td><td>f64</td></tr></thead><tbody><tr><td>&quot;D&quot;</td><td>15255.783661</td></tr><tr><td>&quot;F&quot;</td><td>12712.241856</td></tr><tr><td>&quot;G&quot;</td><td>12520.050633</td></tr><tr><td>&quot;E&quot;</td><td>11539.190231</td></tr><tr><td>&quot;H&quot;</td><td>10487.347544</td></tr><tr><td>&quot;I&quot;</td><td>8989.636364</td></tr></tbody></table></div>"
            ]
          },
          "metadata": {}
        }
      ],
      "source": [
        "# Your code here:\n",
        "\n",
        "avg_price_per_color = df.group_by('Color').agg(pl.col('Price').mean().alias('avg_price')).sort(by='avg_price', descending=True)\n",
        "\n",
        "print(\"Typical prices across color grades (highest to lowest):\")\n",
        "display(avg_price_per_color)"
      ]
    },
    {
      "cell_type": "markdown",
      "metadata": {
        "id": "Yd1s2ePqF3wY"
      },
      "source": [
        "**Reflection:** After analyzing by color, how has your view of the data changed? What does each row in your result represent now?"
      ]
    },
    {
      "cell_type": "markdown",
      "metadata": {
        "id": "DK_jeCFkF3wY"
      },
      "source": [
        "**Your answer:** New grain ="
      ]
    },
    {
      "cell_type": "markdown",
      "metadata": {
        "id": "bP549oUNF3wY"
      },
      "source": [
        "## Section 3: Advanced Strategic Analysis (10 minutes)\n",
        "\n",
        "The CEO leans forward: \"These next questions will shape our strategy for next year.\""
      ]
    },
    {
      "cell_type": "markdown",
      "metadata": {
        "id": "HBCB5WAfF3wY"
      },
      "source": [
        "### Question 8: \"We're thinking of specializing in certain clarity grades. For our investor deck, I need a complete breakdown showing: how many diamonds we have in each clarity grade, their typical price, and the total carats we're holding for each grade.\""
      ]
    },
    {
      "cell_type": "code",
      "execution_count": 22,
      "metadata": {
        "id": "GMuRuqjBF3wY",
        "colab": {
          "base_uri": "https://localhost:8080/",
          "height": 365
        },
        "outputId": "2743ec90-cb4f-4773-ac6a-ca6bf2083cc7"
      },
      "outputs": [
        {
          "output_type": "stream",
          "name": "stdout",
          "text": [
            "Clarity breakdown (count, avg price, total carats):\n"
          ]
        },
        {
          "output_type": "stream",
          "name": "stderr",
          "text": [
            "/tmp/ipython-input-1542528433.py:4: DeprecationWarning: `pl.count()` is deprecated. Please use `pl.len()` instead.\n",
            "  pl.count().alias('diamond_count'),\n"
          ]
        },
        {
          "output_type": "display_data",
          "data": {
            "text/plain": [
              "shape: (7, 4)\n",
              "┌─────────┬───────────────┬───────────┬──────────────┐\n",
              "│ Clarity ┆ diamond_count ┆ avg_price ┆ total_carats │\n",
              "│ ---     ┆ ---           ┆ ---       ┆ ---          │\n",
              "│ str     ┆ u32           ┆ f64       ┆ f64          │\n",
              "╞═════════╪═══════════════╪═══════════╪══════════════╡\n",
              "│ SI1     ┆ 2059          ┆ 8018.86   ┆ 2563.69      │\n",
              "│ VS2     ┆ 1575          ┆ 11809.05  ┆ 2170.81      │\n",
              "│ VS1     ┆ 1192          ┆ 13694.11  ┆ 1682.74      │\n",
              "│ VVS2    ┆ 666           ┆ 14142.18  ┆ 876.58       │\n",
              "│ VVS1    ┆ 285           ┆ 16845.68  ┆ 389.43       │\n",
              "│ IF      ┆ 219           ┆ 22105.84  ┆ 316.0        │\n",
              "│ FL      ┆ 4             ┆ 63776.0   ┆ 7.87         │\n",
              "└─────────┴───────────────┴───────────┴──────────────┘"
            ],
            "text/html": [
              "<div><style>\n",
              ".dataframe > thead > tr,\n",
              ".dataframe > tbody > tr {\n",
              "  text-align: right;\n",
              "  white-space: pre-wrap;\n",
              "}\n",
              "</style>\n",
              "<small>shape: (7, 4)</small><table border=\"1\" class=\"dataframe\"><thead><tr><th>Clarity</th><th>diamond_count</th><th>avg_price</th><th>total_carats</th></tr><tr><td>str</td><td>u32</td><td>f64</td><td>f64</td></tr></thead><tbody><tr><td>&quot;SI1&quot;</td><td>2059</td><td>8018.86</td><td>2563.69</td></tr><tr><td>&quot;VS2&quot;</td><td>1575</td><td>11809.05</td><td>2170.81</td></tr><tr><td>&quot;VS1&quot;</td><td>1192</td><td>13694.11</td><td>1682.74</td></tr><tr><td>&quot;VVS2&quot;</td><td>666</td><td>14142.18</td><td>876.58</td></tr><tr><td>&quot;VVS1&quot;</td><td>285</td><td>16845.68</td><td>389.43</td></tr><tr><td>&quot;IF&quot;</td><td>219</td><td>22105.84</td><td>316.0</td></tr><tr><td>&quot;FL&quot;</td><td>4</td><td>63776.0</td><td>7.87</td></tr></tbody></table></div>"
            ]
          },
          "metadata": {}
        }
      ],
      "source": [
        "# Your code here:\n",
        "\n",
        "clarity_breakdown = df.group_by('Clarity').agg([\n",
        "    pl.count().alias('diamond_count'),\n",
        "    pl.col('Price').mean().round(2).alias('avg_price'),\n",
        "    pl.col('Carat Weight').sum().round(2).alias('total_carats')\n",
        "]).sort(by='diamond_count', descending=True)\n",
        "\n",
        "\n",
        "print(\"Clarity breakdown (count, avg price, total carats):\")\n",
        "display(clarity_breakdown)"
      ]
    },
    {
      "cell_type": "markdown",
      "metadata": {
        "id": "i72svfpLF3wY"
      },
      "source": [
        "### Question 9: \"My luxury competitor claims they have the best prices for every cut-color combination. Show me our pricing structure across these combinations - I want to see where we're competitive.\""
      ]
    },
    {
      "cell_type": "code",
      "execution_count": 24,
      "metadata": {
        "id": "uEAhVAnNF3wZ",
        "colab": {
          "base_uri": "https://localhost:8080/",
          "height": 303
        },
        "outputId": "b4a94523-7a9a-46b3-8f94-4926fccceb94"
      },
      "outputs": [
        {
          "output_type": "stream",
          "name": "stdout",
          "text": [
            "Average price per cut-color combination:\n"
          ]
        },
        {
          "output_type": "stream",
          "name": "stderr",
          "text": [
            "/tmp/ipython-input-866615487.py:5: DeprecationWarning: The argument `columns` for `DataFrame.pivot` is deprecated. It has been renamed to `on`.\n",
            "  ).pivot(index='Cut', columns='Color', values='avg_price')\n"
          ]
        },
        {
          "output_type": "display_data",
          "data": {
            "text/plain": [
              "shape: (5, 7)\n",
              "┌─────────────────┬──────────┬──────────┬──────────┬──────────┬─────────┬──────────┐\n",
              "│ Cut             ┆ H        ┆ E        ┆ G        ┆ F        ┆ I       ┆ D        │\n",
              "│ ---             ┆ ---      ┆ ---      ┆ ---      ┆ ---      ┆ ---     ┆ ---      │\n",
              "│ str             ┆ f64      ┆ f64      ┆ f64      ┆ f64      ┆ f64     ┆ f64      │\n",
              "╞═════════════════╪══════════╪══════════╪══════════╪══════════╪═════════╪══════════╡\n",
              "│ Very Good       ┆ 10056.11 ┆ 12101.91 ┆ 12354.01 ┆ 12413.91 ┆ 8930.03 ┆ 13218.83 │\n",
              "│ Fair            ┆ 5908.5   ┆ 5370.63  ┆ 7345.52  ┆ 6063.63  ┆ 4573.19 ┆ 6058.25  │\n",
              "│ Ideal           ┆ 11527.7  ┆ 12647.11 ┆ 13570.31 ┆ 14729.43 ┆ 9459.59 ┆ 18461.95 │\n",
              "│ Good            ┆ 9535.13  ┆ 8969.55  ┆ 9988.61  ┆ 9274.01  ┆ 8174.11 ┆ 10058.72 │\n",
              "│ Signature-Ideal ┆ 9112.69  ┆ 11261.91 ┆ 10248.3  ┆ 13247.95 ┆ 8823.46 ┆ 19823.1  │\n",
              "└─────────────────┴──────────┴──────────┴──────────┴──────────┴─────────┴──────────┘"
            ],
            "text/html": [
              "<div><style>\n",
              ".dataframe > thead > tr,\n",
              ".dataframe > tbody > tr {\n",
              "  text-align: right;\n",
              "  white-space: pre-wrap;\n",
              "}\n",
              "</style>\n",
              "<small>shape: (5, 7)</small><table border=\"1\" class=\"dataframe\"><thead><tr><th>Cut</th><th>H</th><th>E</th><th>G</th><th>F</th><th>I</th><th>D</th></tr><tr><td>str</td><td>f64</td><td>f64</td><td>f64</td><td>f64</td><td>f64</td><td>f64</td></tr></thead><tbody><tr><td>&quot;Very Good&quot;</td><td>10056.11</td><td>12101.91</td><td>12354.01</td><td>12413.91</td><td>8930.03</td><td>13218.83</td></tr><tr><td>&quot;Fair&quot;</td><td>5908.5</td><td>5370.63</td><td>7345.52</td><td>6063.63</td><td>4573.19</td><td>6058.25</td></tr><tr><td>&quot;Ideal&quot;</td><td>11527.7</td><td>12647.11</td><td>13570.31</td><td>14729.43</td><td>9459.59</td><td>18461.95</td></tr><tr><td>&quot;Good&quot;</td><td>9535.13</td><td>8969.55</td><td>9988.61</td><td>9274.01</td><td>8174.11</td><td>10058.72</td></tr><tr><td>&quot;Signature-Ideal&quot;</td><td>9112.69</td><td>11261.91</td><td>10248.3</td><td>13247.95</td><td>8823.46</td><td>19823.1</td></tr></tbody></table></div>"
            ]
          },
          "metadata": {}
        }
      ],
      "source": [
        "# Your code here:\n",
        "\n",
        "price_matrix = df.group_by(['Cut', 'Color']).agg(\n",
        "    pl.col('Price').mean().round(2).alias('avg_price')\n",
        ").pivot(index='Cut', columns='Color', values='avg_price')\n",
        "\n",
        "print(\"Average price per cut-color combination:\")\n",
        "display(price_matrix)"
      ]
    },
    {
      "cell_type": "markdown",
      "metadata": {
        "id": "z-TMrfYrF3wZ"
      },
      "source": [
        "**Reflection:** How specific is your analysis now? What level of detail does each row represent?"
      ]
    },
    {
      "cell_type": "markdown",
      "metadata": {
        "id": "Fs-1aky9F3wZ"
      },
      "source": [
        "**Your answer:** New grain ="
      ]
    },
    {
      "cell_type": "markdown",
      "metadata": {
        "id": "psq1D3DTF3wZ"
      },
      "source": [
        "### Question 10: URGENT - \"Our biggest client is interested in purchasing entire inventory segments. They asked: 'Which color-cut combinations represent your highest total inventory value?' Show me the top 5 most valuable inventory segments by total worth, and include how many diamonds are in each segment.\"\n",
        "\n",
        "This is critical for tomorrow's negotiation."
      ]
    },
    {
      "cell_type": "code",
      "execution_count": 26,
      "metadata": {
        "id": "rIr3lOEpF3wZ",
        "colab": {
          "base_uri": "https://localhost:8080/",
          "height": 303
        },
        "outputId": "b85195ad-d1b8-47a0-fa0f-53742aa9b4d6"
      },
      "outputs": [
        {
          "output_type": "stream",
          "name": "stdout",
          "text": [
            "Top 5 most valuable inventory segments:\n"
          ]
        },
        {
          "output_type": "stream",
          "name": "stderr",
          "text": [
            "/tmp/ipython-input-593950899.py:4: DeprecationWarning: `pl.count()` is deprecated. Please use `pl.len()` instead.\n",
            "  pl.count().alias('diamond_count'),\n"
          ]
        },
        {
          "output_type": "display_data",
          "data": {
            "text/plain": [
              "shape: (5, 4)\n",
              "┌───────────┬───────┬───────────────┬─────────────┐\n",
              "│ Cut       ┆ Color ┆ diamond_count ┆ total_value │\n",
              "│ ---       ┆ ---   ┆ ---           ┆ ---         │\n",
              "│ str       ┆ str   ┆ u32           ┆ i64         │\n",
              "╞═══════════╪═══════╪═══════════════╪═════════════╡\n",
              "│ Ideal     ┆ G     ┆ 690           ┆ 9363514     │\n",
              "│ Very Good ┆ G     ┆ 578           ┆ 7140620     │\n",
              "│ Very Good ┆ F     ┆ 455           ┆ 5648327     │\n",
              "│ Ideal     ┆ F     ┆ 363           ┆ 5346782     │\n",
              "│ Ideal     ┆ H     ┆ 458           ┆ 5279687     │\n",
              "└───────────┴───────┴───────────────┴─────────────┘"
            ],
            "text/html": [
              "<div><style>\n",
              ".dataframe > thead > tr,\n",
              ".dataframe > tbody > tr {\n",
              "  text-align: right;\n",
              "  white-space: pre-wrap;\n",
              "}\n",
              "</style>\n",
              "<small>shape: (5, 4)</small><table border=\"1\" class=\"dataframe\"><thead><tr><th>Cut</th><th>Color</th><th>diamond_count</th><th>total_value</th></tr><tr><td>str</td><td>str</td><td>u32</td><td>i64</td></tr></thead><tbody><tr><td>&quot;Ideal&quot;</td><td>&quot;G&quot;</td><td>690</td><td>9363514</td></tr><tr><td>&quot;Very Good&quot;</td><td>&quot;G&quot;</td><td>578</td><td>7140620</td></tr><tr><td>&quot;Very Good&quot;</td><td>&quot;F&quot;</td><td>455</td><td>5648327</td></tr><tr><td>&quot;Ideal&quot;</td><td>&quot;F&quot;</td><td>363</td><td>5346782</td></tr><tr><td>&quot;Ideal&quot;</td><td>&quot;H&quot;</td><td>458</td><td>5279687</td></tr></tbody></table></div>"
            ]
          },
          "metadata": {}
        }
      ],
      "source": [
        "# Your code here:\n",
        "\n",
        "top_segments = df.group_by(['Cut', 'Color']).agg([\n",
        "    pl.count().alias('diamond_count'),\n",
        "    pl.col('Price').sum().round(2).alias('total_value')\n",
        "]).sort(by='total_value', descending=True).head(5)\n",
        "\n",
        "print(\"Top 5 most valuable inventory segments:\")\n",
        "display(top_segments)"
      ]
    },
    {
      "cell_type": "markdown",
      "metadata": {
        "id": "9dI_y2zIF3wZ"
      },
      "source": [
        "## Debrief\n",
        "\n",
        "Congratulations! You've just completed your first day as the diamond company's data analyst.\n",
        "\n",
        "Remember:\n",
        "- CEOs speak in business language, not technical terms\n",
        "- Always understand what each row represents before analyzing\n",
        "- Business questions contain clues about which operations to use"
      ]
    }
  ],
  "metadata": {
    "kernelspec": {
      "display_name": "Python 3",
      "language": "python",
      "name": "python3"
    },
    "language_info": {
      "codemirror_mode": {
        "name": "ipython",
        "version": 3
      },
      "file_extension": ".py",
      "mimetype": "text/x-python",
      "name": "python",
      "nbconvert_exporter": "python",
      "pygments_lexer": "ipython3",
      "version": "3.12.0"
    },
    "colab": {
      "provenance": []
    }
  },
  "nbformat": 4,
  "nbformat_minor": 0
}